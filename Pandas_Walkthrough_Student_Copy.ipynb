{
 "cells": [
  {
   "cell_type": "markdown",
   "metadata": {},
   "source": [
    "# Data Science Pandas"
   ]
  },
  {
   "cell_type": "markdown",
   "metadata": {},
   "source": [
    "## Tasks Today:\n",
    "\n",
    "0) <b>Pre-Work</b> <br>\n",
    " &nbsp;&nbsp;&nbsp;&nbsp; a) Numpy Random Sampling\n",
    "\n",
    "1) <b>Pandas</b> <br>\n",
    " &nbsp;&nbsp;&nbsp;&nbsp; a) Importing <br>\n",
    " &nbsp;&nbsp;&nbsp;&nbsp; b) Tabular Data Structures <br>\n",
    " &nbsp;&nbsp;&nbsp;&nbsp;&nbsp;&nbsp;&nbsp;&nbsp; - from_dict() <br>\n",
    " &nbsp;&nbsp;&nbsp;&nbsp;&nbsp;&nbsp;&nbsp;&nbsp; - read_csv() <br>\n",
    " &nbsp;&nbsp;&nbsp;&nbsp; c) <b>In-Class Exercise #1</b> <br>\n",
    " &nbsp;&nbsp;&nbsp;&nbsp; d) Accessing Data <br>\n",
    " &nbsp;&nbsp;&nbsp;&nbsp;&nbsp;&nbsp;&nbsp;&nbsp; - Indexing <br>\n",
    " &nbsp;&nbsp;&nbsp;&nbsp;&nbsp;&nbsp;&nbsp;&nbsp; - df.loc <br>\n",
    " &nbsp;&nbsp;&nbsp;&nbsp;&nbsp;&nbsp;&nbsp;&nbsp; - keys() <br>\n",
    " &nbsp;&nbsp;&nbsp;&nbsp;&nbsp;&nbsp;&nbsp;&nbsp; - Slicing a DataFrame <br>\n",
    " &nbsp;&nbsp;&nbsp;&nbsp; e) Built-In Methods <br>\n",
    " &nbsp;&nbsp;&nbsp;&nbsp;&nbsp;&nbsp;&nbsp;&nbsp; - head() <br>\n",
    " &nbsp;&nbsp;&nbsp;&nbsp;&nbsp;&nbsp;&nbsp;&nbsp; - tail() <br>\n",
    " &nbsp;&nbsp;&nbsp;&nbsp;&nbsp;&nbsp;&nbsp;&nbsp; - shape <br>\n",
    " &nbsp;&nbsp;&nbsp;&nbsp;&nbsp;&nbsp;&nbsp;&nbsp; - describe() <br>\n",
    " &nbsp;&nbsp;&nbsp;&nbsp;&nbsp;&nbsp;&nbsp;&nbsp; - sort_values() <br>\n",
    " &nbsp;&nbsp;&nbsp;&nbsp;&nbsp;&nbsp;&nbsp;&nbsp; - .columns <br>\n",
    " &nbsp;&nbsp;&nbsp;&nbsp; f) <b>In-Class Exercise #2</b> <br>\n",
    " &nbsp;&nbsp;&nbsp;&nbsp; g) Filtration <br>\n",
    " &nbsp;&nbsp;&nbsp;&nbsp;&nbsp;&nbsp;&nbsp;&nbsp; - Conditionals <br>\n",
    " &nbsp;&nbsp;&nbsp;&nbsp;&nbsp;&nbsp;&nbsp;&nbsp; - Subsetting <br>\n",
    " &nbsp;&nbsp;&nbsp;&nbsp; h) Column Transformations <br>\n",
    " &nbsp;&nbsp;&nbsp;&nbsp;&nbsp;&nbsp;&nbsp;&nbsp; - Generating a New Column w/Data <br>\n",
    " &nbsp;&nbsp;&nbsp;&nbsp;&nbsp;&nbsp;&nbsp;&nbsp; - User Defined Function <br>\n",
    " &nbsp;&nbsp;&nbsp;&nbsp; i) Aggregations <br>\n",
    " &nbsp;&nbsp;&nbsp;&nbsp;&nbsp;&nbsp;&nbsp;&nbsp; - groupby() <br>\n",
    " &nbsp;&nbsp;&nbsp;&nbsp;&nbsp;&nbsp;&nbsp;&nbsp; - Type of groupby() <br>\n",
    " &nbsp;&nbsp;&nbsp;&nbsp;&nbsp;&nbsp;&nbsp;&nbsp; - mean() <br>\n",
    " &nbsp;&nbsp;&nbsp;&nbsp;&nbsp;&nbsp;&nbsp;&nbsp; - groupby() w/Multiple Columns <br>\n",
    " &nbsp;&nbsp;&nbsp;&nbsp;&nbsp;&nbsp;&nbsp;&nbsp; - drop_duplicates() <br>"
   ]
  },
  {
   "cell_type": "markdown",
   "metadata": {},
   "source": [
    "## Numpy Random Sampling"
   ]
  },
  {
   "cell_type": "code",
   "execution_count": 9,
   "metadata": {},
   "outputs": [
    {
     "name": "stdout",
     "output_type": "stream",
     "text": [
      "Random number: 0.7365219655986625\n",
      "Another random number: 0.3810627964687727\n",
      "Random num from 0 - 1 Mil: 998109.1144299641\n",
      "3 random nums between 0 & 1 Mil: [163839.59742947 917215.59891156  25669.4502977 ]\n",
      "3x3 matrix of rand nums from 0 to 1 Mil: \n",
      "[[ 67361.17865259 374728.75596506 271829.67791232]\n",
      " [147134.86827828  95876.71397894 421692.80433678]\n",
      " [421416.17972475 850508.85141508 424726.92285134]]\n",
      "4 random integers from 0 to 1 Mil: [117649 639714 691596 277997]\n"
     ]
    }
   ],
   "source": [
    "import numpy as np\n",
    "\n",
    "# single call generates a single random number (from 0 - 1)\n",
    "print(f'Random number: {np.random.uniform()}')\n",
    "print(f'Another random number: {np.random.uniform()}')\n",
    "\n",
    "# Passing bounds\n",
    "print(f'Random num from 0 - 1 Mil: {np.random.uniform(0,1e6)}')\n",
    "\n",
    "# Many rands at once\n",
    "print(f'3 random nums between 0 & 1 Mil: {np.random.uniform(0, 1e6, 3)}')\n",
    "\n",
    "# Matrix & tensors w/ wierd shapes\n",
    "print(f'3x3 matrix of rand nums from 0 to 1 Mil: \\n{np.random.uniform(0,1e6,(3,3))}')\n",
    "\n",
    "# Using random integer\n",
    "print(f'4 random integers from 0 to 1 Mil: {np.random.randint(0, 1e6, 4)}')"
   ]
  },
  {
   "cell_type": "markdown",
   "metadata": {},
   "source": [
    "## Pandas <br>\n",
    "\n",
    "<p>Pandas is a flexible data analysis library built on top of NumPy that is excellent for working with tabular data. It is currently the de-facto standard for Python-based data analysis, and fluency in Pandas will do wonders for your productivity and frankly your resume. It is one of the fastest ways of getting from zero to answer in existence. </p>\n",
    "\n",
    "<ul>\n",
    "    <li>Pandas is a Python module, written in C. The Pandas module is a high performance, highly efficient, and high level data analysis library. It allows us to work with large sets of data called dataframes.</li>\n",
    "    <li>Series is a one-dimensional labeled array capable of holding data of any type (integer, string, float, python objects, etc.)</li>\n",
    "    <li>Dataframe = Spreadsheet (has column headers, index, etc.)</li>\n",
    "</ul>"
   ]
  },
  {
   "cell_type": "markdown",
   "metadata": {},
   "source": [
    "### Importing"
   ]
  },
  {
   "cell_type": "code",
   "execution_count": 10,
   "metadata": {},
   "outputs": [
    {
     "name": "stdout",
     "output_type": "stream",
     "text": [
      "Requirement already satisfied: pandas in /Users/ScottMcL/opt/anaconda3/lib/python3.9/site-packages (1.4.4)\n",
      "Requirement already satisfied: python-dateutil>=2.8.1 in /Users/ScottMcL/opt/anaconda3/lib/python3.9/site-packages (from pandas) (2.8.2)\n",
      "Requirement already satisfied: pytz>=2020.1 in /Users/ScottMcL/opt/anaconda3/lib/python3.9/site-packages (from pandas) (2022.1)\n",
      "Requirement already satisfied: numpy>=1.18.5 in /Users/ScottMcL/opt/anaconda3/lib/python3.9/site-packages (from pandas) (1.21.5)\n",
      "Requirement already satisfied: six>=1.5 in /Users/ScottMcL/opt/anaconda3/lib/python3.9/site-packages (from python-dateutil>=2.8.1->pandas) (1.16.0)\n"
     ]
    }
   ],
   "source": [
    "!pip install pandas"
   ]
  },
  {
   "cell_type": "code",
   "execution_count": 11,
   "metadata": {},
   "outputs": [],
   "source": [
    "import pandas as pd\n",
    "\n",
    "# always use pd, standard for data science"
   ]
  },
  {
   "cell_type": "markdown",
   "metadata": {},
   "source": [
    "### Tabular data structures <br>\n",
    "<p>The central object of study in Pandas is the DataFrame, which is a tabular data structure with rows and columns like an excel spreadsheet. The first point of discussion is the creation of dataframes both from native Python dictionaries, and text files through the Pandas I/O system.</p>"
   ]
  },
  {
   "cell_type": "code",
   "execution_count": 12,
   "metadata": {
    "scrolled": true
   },
   "outputs": [
    {
     "name": "stdout",
     "output_type": "stream",
     "text": [
      "{'names': ['Alice', 'Bob', 'James', 'Beth', 'John', 'Sally', 'Richard', 'Lauren', 'Brandon', 'Sabrina'], 'ages': array([32, 25, 20, 29, 21, 23, 31, 33, 28, 23])}\n"
     ]
    }
   ],
   "source": [
    "names = ['Alice',\n",
    "         'Bob',\n",
    "         'James',\n",
    "         'Beth',\n",
    "         'John',\n",
    "         'Sally',\n",
    "         'Richard',\n",
    "         'Lauren',\n",
    "         'Brandon',\n",
    "         'Sabrina']\n",
    "\n",
    "ages = np.random.randint(18,35,len(names))\n",
    "\n",
    "my_people = {\n",
    "    'names': names,\n",
    "    'ages': ages\n",
    "}\n",
    "\n",
    "print(my_people)\n"
   ]
  },
  {
   "cell_type": "markdown",
   "metadata": {},
   "source": [
    "##### from_dict()\n",
    "\n",
    "<p>Let's convert our not-so-useful-for-analysis dict into a Pandas dataframe. We can use the from_dict function to do this easily using Pandas:</p>"
   ]
  },
  {
   "cell_type": "code",
   "execution_count": 13,
   "metadata": {
    "scrolled": false
   },
   "outputs": [
    {
     "data": {
      "text/html": [
       "<div>\n",
       "<style scoped>\n",
       "    .dataframe tbody tr th:only-of-type {\n",
       "        vertical-align: middle;\n",
       "    }\n",
       "\n",
       "    .dataframe tbody tr th {\n",
       "        vertical-align: top;\n",
       "    }\n",
       "\n",
       "    .dataframe thead th {\n",
       "        text-align: right;\n",
       "    }\n",
       "</style>\n",
       "<table border=\"1\" class=\"dataframe\">\n",
       "  <thead>\n",
       "    <tr style=\"text-align: right;\">\n",
       "      <th></th>\n",
       "      <th>names</th>\n",
       "      <th>ages</th>\n",
       "    </tr>\n",
       "  </thead>\n",
       "  <tbody>\n",
       "    <tr>\n",
       "      <th>0</th>\n",
       "      <td>Alice</td>\n",
       "      <td>32</td>\n",
       "    </tr>\n",
       "    <tr>\n",
       "      <th>1</th>\n",
       "      <td>Bob</td>\n",
       "      <td>25</td>\n",
       "    </tr>\n",
       "    <tr>\n",
       "      <th>2</th>\n",
       "      <td>James</td>\n",
       "      <td>20</td>\n",
       "    </tr>\n",
       "    <tr>\n",
       "      <th>3</th>\n",
       "      <td>Beth</td>\n",
       "      <td>29</td>\n",
       "    </tr>\n",
       "    <tr>\n",
       "      <th>4</th>\n",
       "      <td>John</td>\n",
       "      <td>21</td>\n",
       "    </tr>\n",
       "    <tr>\n",
       "      <th>5</th>\n",
       "      <td>Sally</td>\n",
       "      <td>23</td>\n",
       "    </tr>\n",
       "    <tr>\n",
       "      <th>6</th>\n",
       "      <td>Richard</td>\n",
       "      <td>31</td>\n",
       "    </tr>\n",
       "    <tr>\n",
       "      <th>7</th>\n",
       "      <td>Lauren</td>\n",
       "      <td>33</td>\n",
       "    </tr>\n",
       "    <tr>\n",
       "      <th>8</th>\n",
       "      <td>Brandon</td>\n",
       "      <td>28</td>\n",
       "    </tr>\n",
       "    <tr>\n",
       "      <th>9</th>\n",
       "      <td>Sabrina</td>\n",
       "      <td>23</td>\n",
       "    </tr>\n",
       "  </tbody>\n",
       "</table>\n",
       "</div>"
      ],
      "text/plain": [
       "     names  ages\n",
       "0    Alice    32\n",
       "1      Bob    25\n",
       "2    James    20\n",
       "3     Beth    29\n",
       "4     John    21\n",
       "5    Sally    23\n",
       "6  Richard    31\n",
       "7   Lauren    33\n",
       "8  Brandon    28\n",
       "9  Sabrina    23"
      ]
     },
     "execution_count": 13,
     "metadata": {},
     "output_type": "execute_result"
    }
   ],
   "source": [
    "data = pd.DataFrame.from_dict(my_people)\n",
    "\n",
    "data\n"
   ]
  },
  {
   "cell_type": "markdown",
   "metadata": {},
   "source": [
    "##### read_csv()"
   ]
  },
  {
   "cell_type": "code",
   "execution_count": 14,
   "metadata": {
    "scrolled": true
   },
   "outputs": [
    {
     "ename": "FileNotFoundError",
     "evalue": "[Errno 2] No such file or directory: 'boston_marathon2017_edited.csv'",
     "output_type": "error",
     "traceback": [
      "\u001b[0;31m---------------------------------------------------------------------------\u001b[0m",
      "\u001b[0;31mFileNotFoundError\u001b[0m                         Traceback (most recent call last)",
      "\u001b[0;32m/var/folders/5h/2fq29yzd4lj0gf0pwmhm54680000gn/T/ipykernel_13173/1359220065.py\u001b[0m in \u001b[0;36m<module>\u001b[0;34m\u001b[0m\n\u001b[1;32m      2\u001b[0m \u001b[0;31m# pd.set_option('display.max_rows', None)\u001b[0m\u001b[0;34m\u001b[0m\u001b[0;34m\u001b[0m\u001b[0m\n\u001b[1;32m      3\u001b[0m \u001b[0;34m\u001b[0m\u001b[0m\n\u001b[0;32m----> 4\u001b[0;31m \u001b[0mmarathon\u001b[0m \u001b[0;34m=\u001b[0m \u001b[0mpd\u001b[0m\u001b[0;34m.\u001b[0m\u001b[0mread_csv\u001b[0m\u001b[0;34m(\u001b[0m\u001b[0;34m'boston_marathon2017_edited.csv'\u001b[0m\u001b[0;34m,\u001b[0m \u001b[0msep\u001b[0m \u001b[0;34m=\u001b[0m \u001b[0;34m','\u001b[0m\u001b[0;34m)\u001b[0m\u001b[0;34m\u001b[0m\u001b[0;34m\u001b[0m\u001b[0m\n\u001b[0m\u001b[1;32m      5\u001b[0m \u001b[0;34m\u001b[0m\u001b[0m\n\u001b[1;32m      6\u001b[0m \u001b[0mmarathon\u001b[0m\u001b[0;34m\u001b[0m\u001b[0;34m\u001b[0m\u001b[0m\n",
      "\u001b[0;32m~/opt/anaconda3/lib/python3.9/site-packages/pandas/util/_decorators.py\u001b[0m in \u001b[0;36mwrapper\u001b[0;34m(*args, **kwargs)\u001b[0m\n\u001b[1;32m    309\u001b[0m                     \u001b[0mstacklevel\u001b[0m\u001b[0;34m=\u001b[0m\u001b[0mstacklevel\u001b[0m\u001b[0;34m,\u001b[0m\u001b[0;34m\u001b[0m\u001b[0;34m\u001b[0m\u001b[0m\n\u001b[1;32m    310\u001b[0m                 )\n\u001b[0;32m--> 311\u001b[0;31m             \u001b[0;32mreturn\u001b[0m \u001b[0mfunc\u001b[0m\u001b[0;34m(\u001b[0m\u001b[0;34m*\u001b[0m\u001b[0margs\u001b[0m\u001b[0;34m,\u001b[0m \u001b[0;34m**\u001b[0m\u001b[0mkwargs\u001b[0m\u001b[0;34m)\u001b[0m\u001b[0;34m\u001b[0m\u001b[0;34m\u001b[0m\u001b[0m\n\u001b[0m\u001b[1;32m    312\u001b[0m \u001b[0;34m\u001b[0m\u001b[0m\n\u001b[1;32m    313\u001b[0m         \u001b[0;32mreturn\u001b[0m \u001b[0mwrapper\u001b[0m\u001b[0;34m\u001b[0m\u001b[0;34m\u001b[0m\u001b[0m\n",
      "\u001b[0;32m~/opt/anaconda3/lib/python3.9/site-packages/pandas/io/parsers/readers.py\u001b[0m in \u001b[0;36mread_csv\u001b[0;34m(filepath_or_buffer, sep, delimiter, header, names, index_col, usecols, squeeze, prefix, mangle_dupe_cols, dtype, engine, converters, true_values, false_values, skipinitialspace, skiprows, skipfooter, nrows, na_values, keep_default_na, na_filter, verbose, skip_blank_lines, parse_dates, infer_datetime_format, keep_date_col, date_parser, dayfirst, cache_dates, iterator, chunksize, compression, thousands, decimal, lineterminator, quotechar, quoting, doublequote, escapechar, comment, encoding, encoding_errors, dialect, error_bad_lines, warn_bad_lines, on_bad_lines, delim_whitespace, low_memory, memory_map, float_precision, storage_options)\u001b[0m\n\u001b[1;32m    676\u001b[0m     \u001b[0mkwds\u001b[0m\u001b[0;34m.\u001b[0m\u001b[0mupdate\u001b[0m\u001b[0;34m(\u001b[0m\u001b[0mkwds_defaults\u001b[0m\u001b[0;34m)\u001b[0m\u001b[0;34m\u001b[0m\u001b[0;34m\u001b[0m\u001b[0m\n\u001b[1;32m    677\u001b[0m \u001b[0;34m\u001b[0m\u001b[0m\n\u001b[0;32m--> 678\u001b[0;31m     \u001b[0;32mreturn\u001b[0m \u001b[0m_read\u001b[0m\u001b[0;34m(\u001b[0m\u001b[0mfilepath_or_buffer\u001b[0m\u001b[0;34m,\u001b[0m \u001b[0mkwds\u001b[0m\u001b[0;34m)\u001b[0m\u001b[0;34m\u001b[0m\u001b[0;34m\u001b[0m\u001b[0m\n\u001b[0m\u001b[1;32m    679\u001b[0m \u001b[0;34m\u001b[0m\u001b[0m\n\u001b[1;32m    680\u001b[0m \u001b[0;34m\u001b[0m\u001b[0m\n",
      "\u001b[0;32m~/opt/anaconda3/lib/python3.9/site-packages/pandas/io/parsers/readers.py\u001b[0m in \u001b[0;36m_read\u001b[0;34m(filepath_or_buffer, kwds)\u001b[0m\n\u001b[1;32m    573\u001b[0m \u001b[0;34m\u001b[0m\u001b[0m\n\u001b[1;32m    574\u001b[0m     \u001b[0;31m# Create the parser.\u001b[0m\u001b[0;34m\u001b[0m\u001b[0;34m\u001b[0m\u001b[0m\n\u001b[0;32m--> 575\u001b[0;31m     \u001b[0mparser\u001b[0m \u001b[0;34m=\u001b[0m \u001b[0mTextFileReader\u001b[0m\u001b[0;34m(\u001b[0m\u001b[0mfilepath_or_buffer\u001b[0m\u001b[0;34m,\u001b[0m \u001b[0;34m**\u001b[0m\u001b[0mkwds\u001b[0m\u001b[0;34m)\u001b[0m\u001b[0;34m\u001b[0m\u001b[0;34m\u001b[0m\u001b[0m\n\u001b[0m\u001b[1;32m    576\u001b[0m \u001b[0;34m\u001b[0m\u001b[0m\n\u001b[1;32m    577\u001b[0m     \u001b[0;32mif\u001b[0m \u001b[0mchunksize\u001b[0m \u001b[0;32mor\u001b[0m \u001b[0miterator\u001b[0m\u001b[0;34m:\u001b[0m\u001b[0;34m\u001b[0m\u001b[0;34m\u001b[0m\u001b[0m\n",
      "\u001b[0;32m~/opt/anaconda3/lib/python3.9/site-packages/pandas/io/parsers/readers.py\u001b[0m in \u001b[0;36m__init__\u001b[0;34m(self, f, engine, **kwds)\u001b[0m\n\u001b[1;32m    930\u001b[0m \u001b[0;34m\u001b[0m\u001b[0m\n\u001b[1;32m    931\u001b[0m         \u001b[0mself\u001b[0m\u001b[0;34m.\u001b[0m\u001b[0mhandles\u001b[0m\u001b[0;34m:\u001b[0m \u001b[0mIOHandles\u001b[0m \u001b[0;34m|\u001b[0m \u001b[0;32mNone\u001b[0m \u001b[0;34m=\u001b[0m \u001b[0;32mNone\u001b[0m\u001b[0;34m\u001b[0m\u001b[0;34m\u001b[0m\u001b[0m\n\u001b[0;32m--> 932\u001b[0;31m         \u001b[0mself\u001b[0m\u001b[0;34m.\u001b[0m\u001b[0m_engine\u001b[0m \u001b[0;34m=\u001b[0m \u001b[0mself\u001b[0m\u001b[0;34m.\u001b[0m\u001b[0m_make_engine\u001b[0m\u001b[0;34m(\u001b[0m\u001b[0mf\u001b[0m\u001b[0;34m,\u001b[0m \u001b[0mself\u001b[0m\u001b[0;34m.\u001b[0m\u001b[0mengine\u001b[0m\u001b[0;34m)\u001b[0m\u001b[0;34m\u001b[0m\u001b[0;34m\u001b[0m\u001b[0m\n\u001b[0m\u001b[1;32m    933\u001b[0m \u001b[0;34m\u001b[0m\u001b[0m\n\u001b[1;32m    934\u001b[0m     \u001b[0;32mdef\u001b[0m \u001b[0mclose\u001b[0m\u001b[0;34m(\u001b[0m\u001b[0mself\u001b[0m\u001b[0;34m)\u001b[0m\u001b[0;34m:\u001b[0m\u001b[0;34m\u001b[0m\u001b[0;34m\u001b[0m\u001b[0m\n",
      "\u001b[0;32m~/opt/anaconda3/lib/python3.9/site-packages/pandas/io/parsers/readers.py\u001b[0m in \u001b[0;36m_make_engine\u001b[0;34m(self, f, engine)\u001b[0m\n\u001b[1;32m   1214\u001b[0m             \u001b[0;31m# \"Union[str, PathLike[str], ReadCsvBuffer[bytes], ReadCsvBuffer[str]]\"\u001b[0m\u001b[0;34m\u001b[0m\u001b[0;34m\u001b[0m\u001b[0m\n\u001b[1;32m   1215\u001b[0m             \u001b[0;31m# , \"str\", \"bool\", \"Any\", \"Any\", \"Any\", \"Any\", \"Any\"\u001b[0m\u001b[0;34m\u001b[0m\u001b[0;34m\u001b[0m\u001b[0m\n\u001b[0;32m-> 1216\u001b[0;31m             self.handles = get_handle(  # type: ignore[call-overload]\n\u001b[0m\u001b[1;32m   1217\u001b[0m                 \u001b[0mf\u001b[0m\u001b[0;34m,\u001b[0m\u001b[0;34m\u001b[0m\u001b[0;34m\u001b[0m\u001b[0m\n\u001b[1;32m   1218\u001b[0m                 \u001b[0mmode\u001b[0m\u001b[0;34m,\u001b[0m\u001b[0;34m\u001b[0m\u001b[0;34m\u001b[0m\u001b[0m\n",
      "\u001b[0;32m~/opt/anaconda3/lib/python3.9/site-packages/pandas/io/common.py\u001b[0m in \u001b[0;36mget_handle\u001b[0;34m(path_or_buf, mode, encoding, compression, memory_map, is_text, errors, storage_options)\u001b[0m\n\u001b[1;32m    784\u001b[0m         \u001b[0;32mif\u001b[0m \u001b[0mioargs\u001b[0m\u001b[0;34m.\u001b[0m\u001b[0mencoding\u001b[0m \u001b[0;32mand\u001b[0m \u001b[0;34m\"b\"\u001b[0m \u001b[0;32mnot\u001b[0m \u001b[0;32min\u001b[0m \u001b[0mioargs\u001b[0m\u001b[0;34m.\u001b[0m\u001b[0mmode\u001b[0m\u001b[0;34m:\u001b[0m\u001b[0;34m\u001b[0m\u001b[0;34m\u001b[0m\u001b[0m\n\u001b[1;32m    785\u001b[0m             \u001b[0;31m# Encoding\u001b[0m\u001b[0;34m\u001b[0m\u001b[0;34m\u001b[0m\u001b[0m\n\u001b[0;32m--> 786\u001b[0;31m             handle = open(\n\u001b[0m\u001b[1;32m    787\u001b[0m                 \u001b[0mhandle\u001b[0m\u001b[0;34m,\u001b[0m\u001b[0;34m\u001b[0m\u001b[0;34m\u001b[0m\u001b[0m\n\u001b[1;32m    788\u001b[0m                 \u001b[0mioargs\u001b[0m\u001b[0;34m.\u001b[0m\u001b[0mmode\u001b[0m\u001b[0;34m,\u001b[0m\u001b[0;34m\u001b[0m\u001b[0;34m\u001b[0m\u001b[0m\n",
      "\u001b[0;31mFileNotFoundError\u001b[0m: [Errno 2] No such file or directory: 'boston_marathon2017_edited.csv'"
     ]
    }
   ],
   "source": [
    "# pd.set_option('display.max_columns', None)\n",
    "# pd.set_option('display.max_rows', None)\n",
    "\n",
    "marathon = pd.read_csv('boston_marathon2017_edited.csv', sep = ',')\n",
    "\n",
    "marathon"
   ]
  },
  {
   "cell_type": "markdown",
   "metadata": {},
   "source": [
    "### In-Class Exercise #1 - Read in Boston Red Sox Hitting Data <br>\n",
    "<p>Use the pandas read_csv() method to read in the statistics from the two files yesterday.</p>"
   ]
  },
  {
   "cell_type": "code",
   "execution_count": 15,
   "metadata": {},
   "outputs": [
    {
     "data": {
      "text/html": [
       "<div>\n",
       "<style scoped>\n",
       "    .dataframe tbody tr th:only-of-type {\n",
       "        vertical-align: middle;\n",
       "    }\n",
       "\n",
       "    .dataframe tbody tr th {\n",
       "        vertical-align: top;\n",
       "    }\n",
       "\n",
       "    .dataframe thead th {\n",
       "        text-align: right;\n",
       "    }\n",
       "</style>\n",
       "<table border=\"1\" class=\"dataframe\">\n",
       "  <thead>\n",
       "    <tr style=\"text-align: right;\">\n",
       "      <th></th>\n",
       "      <th>Rk</th>\n",
       "      <th>Pos</th>\n",
       "      <th>Name</th>\n",
       "      <th>Age</th>\n",
       "      <th>G</th>\n",
       "      <th>PA</th>\n",
       "      <th>AB</th>\n",
       "      <th>R</th>\n",
       "      <th>H</th>\n",
       "      <th>2B</th>\n",
       "      <th>...</th>\n",
       "      <th>OBP</th>\n",
       "      <th>SLG</th>\n",
       "      <th>OPS</th>\n",
       "      <th>OPS+</th>\n",
       "      <th>TB</th>\n",
       "      <th>GDP</th>\n",
       "      <th>HBP</th>\n",
       "      <th>SH</th>\n",
       "      <th>SF</th>\n",
       "      <th>IBB</th>\n",
       "    </tr>\n",
       "  </thead>\n",
       "  <tbody>\n",
       "    <tr>\n",
       "      <th>0</th>\n",
       "      <td>1</td>\n",
       "      <td>C</td>\n",
       "      <td>Christian Vazquez</td>\n",
       "      <td>26</td>\n",
       "      <td>99</td>\n",
       "      <td>345</td>\n",
       "      <td>324</td>\n",
       "      <td>43</td>\n",
       "      <td>94</td>\n",
       "      <td>18</td>\n",
       "      <td>...</td>\n",
       "      <td>0.330</td>\n",
       "      <td>0.404</td>\n",
       "      <td>0.735</td>\n",
       "      <td>91</td>\n",
       "      <td>131</td>\n",
       "      <td>14</td>\n",
       "      <td>3</td>\n",
       "      <td>0</td>\n",
       "      <td>1</td>\n",
       "      <td>0</td>\n",
       "    </tr>\n",
       "    <tr>\n",
       "      <th>1</th>\n",
       "      <td>2</td>\n",
       "      <td>1B</td>\n",
       "      <td>Mitch Moreland</td>\n",
       "      <td>31</td>\n",
       "      <td>149</td>\n",
       "      <td>576</td>\n",
       "      <td>508</td>\n",
       "      <td>73</td>\n",
       "      <td>125</td>\n",
       "      <td>34</td>\n",
       "      <td>...</td>\n",
       "      <td>0.326</td>\n",
       "      <td>0.443</td>\n",
       "      <td>0.769</td>\n",
       "      <td>99</td>\n",
       "      <td>225</td>\n",
       "      <td>14</td>\n",
       "      <td>6</td>\n",
       "      <td>0</td>\n",
       "      <td>5</td>\n",
       "      <td>6</td>\n",
       "    </tr>\n",
       "    <tr>\n",
       "      <th>2</th>\n",
       "      <td>3</td>\n",
       "      <td>2B</td>\n",
       "      <td>Dustin Pedroia</td>\n",
       "      <td>33</td>\n",
       "      <td>105</td>\n",
       "      <td>463</td>\n",
       "      <td>406</td>\n",
       "      <td>46</td>\n",
       "      <td>119</td>\n",
       "      <td>19</td>\n",
       "      <td>...</td>\n",
       "      <td>0.369</td>\n",
       "      <td>0.392</td>\n",
       "      <td>0.760</td>\n",
       "      <td>100</td>\n",
       "      <td>159</td>\n",
       "      <td>11</td>\n",
       "      <td>2</td>\n",
       "      <td>2</td>\n",
       "      <td>4</td>\n",
       "      <td>4</td>\n",
       "    </tr>\n",
       "    <tr>\n",
       "      <th>3</th>\n",
       "      <td>4</td>\n",
       "      <td>SS</td>\n",
       "      <td>Xander Bogaerts</td>\n",
       "      <td>24</td>\n",
       "      <td>148</td>\n",
       "      <td>635</td>\n",
       "      <td>571</td>\n",
       "      <td>94</td>\n",
       "      <td>156</td>\n",
       "      <td>32</td>\n",
       "      <td>...</td>\n",
       "      <td>0.343</td>\n",
       "      <td>0.403</td>\n",
       "      <td>0.746</td>\n",
       "      <td>95</td>\n",
       "      <td>230</td>\n",
       "      <td>17</td>\n",
       "      <td>6</td>\n",
       "      <td>0</td>\n",
       "      <td>2</td>\n",
       "      <td>6</td>\n",
       "    </tr>\n",
       "    <tr>\n",
       "      <th>4</th>\n",
       "      <td>5</td>\n",
       "      <td>3B</td>\n",
       "      <td>Rafael Devers</td>\n",
       "      <td>20</td>\n",
       "      <td>58</td>\n",
       "      <td>240</td>\n",
       "      <td>222</td>\n",
       "      <td>34</td>\n",
       "      <td>63</td>\n",
       "      <td>14</td>\n",
       "      <td>...</td>\n",
       "      <td>0.338</td>\n",
       "      <td>0.482</td>\n",
       "      <td>0.819</td>\n",
       "      <td>111</td>\n",
       "      <td>107</td>\n",
       "      <td>5</td>\n",
       "      <td>0</td>\n",
       "      <td>0</td>\n",
       "      <td>0</td>\n",
       "      <td>3</td>\n",
       "    </tr>\n",
       "    <tr>\n",
       "      <th>5</th>\n",
       "      <td>6</td>\n",
       "      <td>LF</td>\n",
       "      <td>Andrew Benintendi</td>\n",
       "      <td>22</td>\n",
       "      <td>151</td>\n",
       "      <td>658</td>\n",
       "      <td>573</td>\n",
       "      <td>84</td>\n",
       "      <td>155</td>\n",
       "      <td>26</td>\n",
       "      <td>...</td>\n",
       "      <td>0.352</td>\n",
       "      <td>0.424</td>\n",
       "      <td>0.776</td>\n",
       "      <td>102</td>\n",
       "      <td>243</td>\n",
       "      <td>16</td>\n",
       "      <td>6</td>\n",
       "      <td>1</td>\n",
       "      <td>8</td>\n",
       "      <td>7</td>\n",
       "    </tr>\n",
       "    <tr>\n",
       "      <th>6</th>\n",
       "      <td>7</td>\n",
       "      <td>CF</td>\n",
       "      <td>Jackie Bradley Jr.</td>\n",
       "      <td>27</td>\n",
       "      <td>133</td>\n",
       "      <td>541</td>\n",
       "      <td>482</td>\n",
       "      <td>58</td>\n",
       "      <td>118</td>\n",
       "      <td>19</td>\n",
       "      <td>...</td>\n",
       "      <td>0.323</td>\n",
       "      <td>0.402</td>\n",
       "      <td>0.726</td>\n",
       "      <td>89</td>\n",
       "      <td>194</td>\n",
       "      <td>8</td>\n",
       "      <td>9</td>\n",
       "      <td>0</td>\n",
       "      <td>2</td>\n",
       "      <td>4</td>\n",
       "    </tr>\n",
       "    <tr>\n",
       "      <th>7</th>\n",
       "      <td>8</td>\n",
       "      <td>RF</td>\n",
       "      <td>Mookie Betts</td>\n",
       "      <td>24</td>\n",
       "      <td>153</td>\n",
       "      <td>712</td>\n",
       "      <td>628</td>\n",
       "      <td>101</td>\n",
       "      <td>166</td>\n",
       "      <td>46</td>\n",
       "      <td>...</td>\n",
       "      <td>0.344</td>\n",
       "      <td>0.459</td>\n",
       "      <td>0.803</td>\n",
       "      <td>108</td>\n",
       "      <td>288</td>\n",
       "      <td>9</td>\n",
       "      <td>2</td>\n",
       "      <td>0</td>\n",
       "      <td>5</td>\n",
       "      <td>9</td>\n",
       "    </tr>\n",
       "    <tr>\n",
       "      <th>8</th>\n",
       "      <td>9</td>\n",
       "      <td>DH</td>\n",
       "      <td>Hanley Ramirez</td>\n",
       "      <td>33</td>\n",
       "      <td>133</td>\n",
       "      <td>553</td>\n",
       "      <td>496</td>\n",
       "      <td>58</td>\n",
       "      <td>120</td>\n",
       "      <td>24</td>\n",
       "      <td>...</td>\n",
       "      <td>0.320</td>\n",
       "      <td>0.429</td>\n",
       "      <td>0.750</td>\n",
       "      <td>94</td>\n",
       "      <td>213</td>\n",
       "      <td>15</td>\n",
       "      <td>6</td>\n",
       "      <td>0</td>\n",
       "      <td>0</td>\n",
       "      <td>8</td>\n",
       "    </tr>\n",
       "    <tr>\n",
       "      <th>9</th>\n",
       "      <td>10</td>\n",
       "      <td>C</td>\n",
       "      <td>Sandy Leon</td>\n",
       "      <td>28</td>\n",
       "      <td>85</td>\n",
       "      <td>301</td>\n",
       "      <td>271</td>\n",
       "      <td>32</td>\n",
       "      <td>61</td>\n",
       "      <td>14</td>\n",
       "      <td>...</td>\n",
       "      <td>0.290</td>\n",
       "      <td>0.354</td>\n",
       "      <td>0.644</td>\n",
       "      <td>68</td>\n",
       "      <td>96</td>\n",
       "      <td>5</td>\n",
       "      <td>1</td>\n",
       "      <td>1</td>\n",
       "      <td>3</td>\n",
       "      <td>1</td>\n",
       "    </tr>\n",
       "    <tr>\n",
       "      <th>10</th>\n",
       "      <td>11</td>\n",
       "      <td>UT</td>\n",
       "      <td>Chris Young</td>\n",
       "      <td>33</td>\n",
       "      <td>90</td>\n",
       "      <td>276</td>\n",
       "      <td>243</td>\n",
       "      <td>30</td>\n",
       "      <td>57</td>\n",
       "      <td>12</td>\n",
       "      <td>...</td>\n",
       "      <td>0.322</td>\n",
       "      <td>0.387</td>\n",
       "      <td>0.709</td>\n",
       "      <td>85</td>\n",
       "      <td>94</td>\n",
       "      <td>4</td>\n",
       "      <td>2</td>\n",
       "      <td>0</td>\n",
       "      <td>1</td>\n",
       "      <td>0</td>\n",
       "    </tr>\n",
       "    <tr>\n",
       "      <th>11</th>\n",
       "      <td>12</td>\n",
       "      <td>3B</td>\n",
       "      <td>Deven Marrero</td>\n",
       "      <td>26</td>\n",
       "      <td>71</td>\n",
       "      <td>188</td>\n",
       "      <td>171</td>\n",
       "      <td>32</td>\n",
       "      <td>36</td>\n",
       "      <td>9</td>\n",
       "      <td>...</td>\n",
       "      <td>0.259</td>\n",
       "      <td>0.333</td>\n",
       "      <td>0.593</td>\n",
       "      <td>54</td>\n",
       "      <td>57</td>\n",
       "      <td>8</td>\n",
       "      <td>0</td>\n",
       "      <td>3</td>\n",
       "      <td>2</td>\n",
       "      <td>0</td>\n",
       "    </tr>\n",
       "    <tr>\n",
       "      <th>12</th>\n",
       "      <td>13</td>\n",
       "      <td>2B</td>\n",
       "      <td>Eduardo Nunez</td>\n",
       "      <td>30</td>\n",
       "      <td>38</td>\n",
       "      <td>173</td>\n",
       "      <td>165</td>\n",
       "      <td>23</td>\n",
       "      <td>53</td>\n",
       "      <td>12</td>\n",
       "      <td>...</td>\n",
       "      <td>0.353</td>\n",
       "      <td>0.539</td>\n",
       "      <td>0.892</td>\n",
       "      <td>128</td>\n",
       "      <td>89</td>\n",
       "      <td>3</td>\n",
       "      <td>2</td>\n",
       "      <td>0</td>\n",
       "      <td>0</td>\n",
       "      <td>0</td>\n",
       "    </tr>\n",
       "    <tr>\n",
       "      <th>13</th>\n",
       "      <td>14</td>\n",
       "      <td>2B</td>\n",
       "      <td>Brock Holt</td>\n",
       "      <td>29</td>\n",
       "      <td>64</td>\n",
       "      <td>164</td>\n",
       "      <td>140</td>\n",
       "      <td>20</td>\n",
       "      <td>28</td>\n",
       "      <td>6</td>\n",
       "      <td>...</td>\n",
       "      <td>0.305</td>\n",
       "      <td>0.243</td>\n",
       "      <td>0.548</td>\n",
       "      <td>47</td>\n",
       "      <td>34</td>\n",
       "      <td>3</td>\n",
       "      <td>3</td>\n",
       "      <td>0</td>\n",
       "      <td>2</td>\n",
       "      <td>0</td>\n",
       "    </tr>\n",
       "    <tr>\n",
       "      <th>14</th>\n",
       "      <td>15</td>\n",
       "      <td>IF</td>\n",
       "      <td>Josh Rutledge</td>\n",
       "      <td>28</td>\n",
       "      <td>37</td>\n",
       "      <td>118</td>\n",
       "      <td>107</td>\n",
       "      <td>10</td>\n",
       "      <td>24</td>\n",
       "      <td>2</td>\n",
       "      <td>...</td>\n",
       "      <td>0.297</td>\n",
       "      <td>0.262</td>\n",
       "      <td>0.558</td>\n",
       "      <td>49</td>\n",
       "      <td>28</td>\n",
       "      <td>1</td>\n",
       "      <td>2</td>\n",
       "      <td>0</td>\n",
       "      <td>0</td>\n",
       "      <td>0</td>\n",
       "    </tr>\n",
       "    <tr>\n",
       "      <th>15</th>\n",
       "      <td>16</td>\n",
       "      <td>3B</td>\n",
       "      <td>Pablo Sandoval</td>\n",
       "      <td>30</td>\n",
       "      <td>32</td>\n",
       "      <td>108</td>\n",
       "      <td>99</td>\n",
       "      <td>10</td>\n",
       "      <td>21</td>\n",
       "      <td>2</td>\n",
       "      <td>...</td>\n",
       "      <td>0.269</td>\n",
       "      <td>0.354</td>\n",
       "      <td>0.622</td>\n",
       "      <td>61</td>\n",
       "      <td>35</td>\n",
       "      <td>4</td>\n",
       "      <td>0</td>\n",
       "      <td>0</td>\n",
       "      <td>1</td>\n",
       "      <td>0</td>\n",
       "    </tr>\n",
       "    <tr>\n",
       "      <th>16</th>\n",
       "      <td>17</td>\n",
       "      <td>UT</td>\n",
       "      <td>Sam Travis</td>\n",
       "      <td>23</td>\n",
       "      <td>33</td>\n",
       "      <td>83</td>\n",
       "      <td>76</td>\n",
       "      <td>13</td>\n",
       "      <td>20</td>\n",
       "      <td>6</td>\n",
       "      <td>...</td>\n",
       "      <td>0.325</td>\n",
       "      <td>0.342</td>\n",
       "      <td>0.667</td>\n",
       "      <td>75</td>\n",
       "      <td>26</td>\n",
       "      <td>2</td>\n",
       "      <td>1</td>\n",
       "      <td>0</td>\n",
       "      <td>0</td>\n",
       "      <td>0</td>\n",
       "    </tr>\n",
       "    <tr>\n",
       "      <th>17</th>\n",
       "      <td>18</td>\n",
       "      <td>UT</td>\n",
       "      <td>Tzu-Wei Lin</td>\n",
       "      <td>23</td>\n",
       "      <td>25</td>\n",
       "      <td>66</td>\n",
       "      <td>56</td>\n",
       "      <td>7</td>\n",
       "      <td>15</td>\n",
       "      <td>0</td>\n",
       "      <td>...</td>\n",
       "      <td>0.369</td>\n",
       "      <td>0.339</td>\n",
       "      <td>0.709</td>\n",
       "      <td>88</td>\n",
       "      <td>19</td>\n",
       "      <td>0</td>\n",
       "      <td>0</td>\n",
       "      <td>1</td>\n",
       "      <td>0</td>\n",
       "      <td>0</td>\n",
       "    </tr>\n",
       "    <tr>\n",
       "      <th>18</th>\n",
       "      <td>19</td>\n",
       "      <td>IF</td>\n",
       "      <td>Marco Hernandez</td>\n",
       "      <td>24</td>\n",
       "      <td>21</td>\n",
       "      <td>60</td>\n",
       "      <td>58</td>\n",
       "      <td>7</td>\n",
       "      <td>16</td>\n",
       "      <td>3</td>\n",
       "      <td>...</td>\n",
       "      <td>0.300</td>\n",
       "      <td>0.328</td>\n",
       "      <td>0.628</td>\n",
       "      <td>65</td>\n",
       "      <td>19</td>\n",
       "      <td>0</td>\n",
       "      <td>1</td>\n",
       "      <td>0</td>\n",
       "      <td>0</td>\n",
       "      <td>0</td>\n",
       "    </tr>\n",
       "    <tr>\n",
       "      <th>19</th>\n",
       "      <td>20</td>\n",
       "      <td>UT</td>\n",
       "      <td>Rajai Davis</td>\n",
       "      <td>36</td>\n",
       "      <td>17</td>\n",
       "      <td>38</td>\n",
       "      <td>36</td>\n",
       "      <td>7</td>\n",
       "      <td>9</td>\n",
       "      <td>2</td>\n",
       "      <td>...</td>\n",
       "      <td>0.289</td>\n",
       "      <td>0.306</td>\n",
       "      <td>0.595</td>\n",
       "      <td>56</td>\n",
       "      <td>11</td>\n",
       "      <td>2</td>\n",
       "      <td>1</td>\n",
       "      <td>0</td>\n",
       "      <td>0</td>\n",
       "      <td>0</td>\n",
       "    </tr>\n",
       "    <tr>\n",
       "      <th>20</th>\n",
       "      <td>21</td>\n",
       "      <td>UT</td>\n",
       "      <td>Steve Selsky</td>\n",
       "      <td>27</td>\n",
       "      <td>8</td>\n",
       "      <td>9</td>\n",
       "      <td>9</td>\n",
       "      <td>0</td>\n",
       "      <td>1</td>\n",
       "      <td>1</td>\n",
       "      <td>...</td>\n",
       "      <td>0.111</td>\n",
       "      <td>0.222</td>\n",
       "      <td>0.333</td>\n",
       "      <td>-16</td>\n",
       "      <td>2</td>\n",
       "      <td>0</td>\n",
       "      <td>0</td>\n",
       "      <td>0</td>\n",
       "      <td>0</td>\n",
       "      <td>0</td>\n",
       "    </tr>\n",
       "    <tr>\n",
       "      <th>21</th>\n",
       "      <td>22</td>\n",
       "      <td>UT</td>\n",
       "      <td>Blake Swihart</td>\n",
       "      <td>25</td>\n",
       "      <td>6</td>\n",
       "      <td>7</td>\n",
       "      <td>5</td>\n",
       "      <td>1</td>\n",
       "      <td>1</td>\n",
       "      <td>0</td>\n",
       "      <td>...</td>\n",
       "      <td>0.429</td>\n",
       "      <td>0.200</td>\n",
       "      <td>0.629</td>\n",
       "      <td>74</td>\n",
       "      <td>1</td>\n",
       "      <td>0</td>\n",
       "      <td>0</td>\n",
       "      <td>0</td>\n",
       "      <td>0</td>\n",
       "      <td>0</td>\n",
       "    </tr>\n",
       "    <tr>\n",
       "      <th>22</th>\n",
       "      <td>23</td>\n",
       "      <td>2B</td>\n",
       "      <td>Chase d'Arnaud</td>\n",
       "      <td>30</td>\n",
       "      <td>2</td>\n",
       "      <td>1</td>\n",
       "      <td>1</td>\n",
       "      <td>2</td>\n",
       "      <td>1</td>\n",
       "      <td>0</td>\n",
       "      <td>...</td>\n",
       "      <td>1.000</td>\n",
       "      <td>1.000</td>\n",
       "      <td>2.000</td>\n",
       "      <td>428</td>\n",
       "      <td>1</td>\n",
       "      <td>0</td>\n",
       "      <td>0</td>\n",
       "      <td>0</td>\n",
       "      <td>0</td>\n",
       "      <td>0</td>\n",
       "    </tr>\n",
       "  </tbody>\n",
       "</table>\n",
       "<p>23 rows × 28 columns</p>\n",
       "</div>"
      ],
      "text/plain": [
       "    Rk   Pos                 Name   Age    G   PA   AB    R    H   2B  ...  \\\n",
       "0    1     C    Christian Vazquez    26   99  345  324   43   94   18  ...   \n",
       "1    2    1B       Mitch Moreland    31  149  576  508   73  125   34  ...   \n",
       "2    3    2B       Dustin Pedroia    33  105  463  406   46  119   19  ...   \n",
       "3    4    SS      Xander Bogaerts    24  148  635  571   94  156   32  ...   \n",
       "4    5    3B        Rafael Devers    20   58  240  222   34   63   14  ...   \n",
       "5    6    LF    Andrew Benintendi    22  151  658  573   84  155   26  ...   \n",
       "6    7    CF   Jackie Bradley Jr.    27  133  541  482   58  118   19  ...   \n",
       "7    8    RF         Mookie Betts    24  153  712  628  101  166   46  ...   \n",
       "8    9    DH       Hanley Ramirez    33  133  553  496   58  120   24  ...   \n",
       "9   10     C           Sandy Leon    28   85  301  271   32   61   14  ...   \n",
       "10  11    UT          Chris Young    33   90  276  243   30   57   12  ...   \n",
       "11  12    3B        Deven Marrero    26   71  188  171   32   36    9  ...   \n",
       "12  13    2B        Eduardo Nunez    30   38  173  165   23   53   12  ...   \n",
       "13  14    2B           Brock Holt    29   64  164  140   20   28    6  ...   \n",
       "14  15    IF        Josh Rutledge    28   37  118  107   10   24    2  ...   \n",
       "15  16    3B       Pablo Sandoval    30   32  108   99   10   21    2  ...   \n",
       "16  17    UT           Sam Travis    23   33   83   76   13   20    6  ...   \n",
       "17  18    UT          Tzu-Wei Lin    23   25   66   56    7   15    0  ...   \n",
       "18  19    IF      Marco Hernandez    24   21   60   58    7   16    3  ...   \n",
       "19  20    UT          Rajai Davis    36   17   38   36    7    9    2  ...   \n",
       "20  21    UT         Steve Selsky    27    8    9    9    0    1    1  ...   \n",
       "21  22    UT        Blake Swihart    25    6    7    5    1    1    0  ...   \n",
       "22  23    2B       Chase d'Arnaud    30    2    1    1    2    1    0  ...   \n",
       "\n",
       "      OBP    SLG    OPS   OPS+   TB   GDP   HBP   SH   SF   IBB  \n",
       "0   0.330  0.404  0.735     91  131    14     3    0    1     0  \n",
       "1   0.326  0.443  0.769     99  225    14     6    0    5     6  \n",
       "2   0.369  0.392  0.760    100  159    11     2    2    4     4  \n",
       "3   0.343  0.403  0.746     95  230    17     6    0    2     6  \n",
       "4   0.338  0.482  0.819    111  107     5     0    0    0     3  \n",
       "5   0.352  0.424  0.776    102  243    16     6    1    8     7  \n",
       "6   0.323  0.402  0.726     89  194     8     9    0    2     4  \n",
       "7   0.344  0.459  0.803    108  288     9     2    0    5     9  \n",
       "8   0.320  0.429  0.750     94  213    15     6    0    0     8  \n",
       "9   0.290  0.354  0.644     68   96     5     1    1    3     1  \n",
       "10  0.322  0.387  0.709     85   94     4     2    0    1     0  \n",
       "11  0.259  0.333  0.593     54   57     8     0    3    2     0  \n",
       "12  0.353  0.539  0.892    128   89     3     2    0    0     0  \n",
       "13  0.305  0.243  0.548     47   34     3     3    0    2     0  \n",
       "14  0.297  0.262  0.558     49   28     1     2    0    0     0  \n",
       "15  0.269  0.354  0.622     61   35     4     0    0    1     0  \n",
       "16  0.325  0.342  0.667     75   26     2     1    0    0     0  \n",
       "17  0.369  0.339  0.709     88   19     0     0    1    0     0  \n",
       "18  0.300  0.328  0.628     65   19     0     1    0    0     0  \n",
       "19  0.289  0.306  0.595     56   11     2     1    0    0     0  \n",
       "20  0.111  0.222  0.333    -16    2     0     0    0    0     0  \n",
       "21  0.429  0.200  0.629     74    1     0     0    0    0     0  \n",
       "22  1.000  1.000  2.000    428    1     0     0    0    0     0  \n",
       "\n",
       "[23 rows x 28 columns]"
      ]
     },
     "execution_count": 15,
     "metadata": {},
     "output_type": "execute_result"
    }
   ],
   "source": [
    "bos17 = pd.read_csv('redsox_2017_hitting.txt', sep = ',')\n",
    "bos18 = pd.read_csv('redsox_2018_hitting.txt', sep = ',')\n",
    "bos18\n",
    "bos17"
   ]
  },
  {
   "cell_type": "code",
   "execution_count": null,
   "metadata": {},
   "outputs": [],
   "source": []
  },
  {
   "cell_type": "markdown",
   "metadata": {},
   "source": [
    "### Accessing Data <br>"
   ]
  },
  {
   "cell_type": "markdown",
   "metadata": {},
   "source": [
    "##### Indexing\n",
    "\n",
    "<p>You can directly select a column of a dataframe just like you would a dict. The result is a Pandas 'Series' object.</p>"
   ]
  },
  {
   "cell_type": "code",
   "execution_count": null,
   "metadata": {},
   "outputs": [],
   "source": [
    "data_ages = data['ages']\n",
    "print(data_ages)\n",
    "\n",
    "# print ot the data type on the variable data\n",
    "\n",
    "# Series\n",
    "print(type(data_ages))\n",
    "\n",
    "# DataFrame\n",
    "print(type(data))\n",
    "\n",
    "# DataSeries Index - starting at 0\n",
    "print(data_ages[3])\n",
    "\n",
    "# key first, row index second\n",
    "print(data['ages'][3])\n",
    "\n",
    "# print(float(data_ages[0]))\n",
    "# print(data_ages)"
   ]
  },
  {
   "cell_type": "markdown",
   "metadata": {},
   "source": [
    "##### df.loc"
   ]
  },
  {
   "cell_type": "markdown",
   "metadata": {},
   "source": [
    "<p>Along the horizontal dimension, rows of Pandas DataFrames are Row objects. You will notice there is a third column present in the DataFrame - this is the $\\textit{index}$. It is automatically generated as a row number, but can be reassigned to a column of your choice using the DataFrame.set_index(colname) method. We can use it to access particular Pandas $\\textit{rows}$, which are also Series objects:</p>"
   ]
  },
  {
   "cell_type": "code",
   "execution_count": null,
   "metadata": {},
   "outputs": [],
   "source": [
    "print(data)\n",
    "# Grab the first row of data -- by the index of the row\n",
    "my_row = data.loc[3]\n",
    "print(f'\\nLocation of the 0th row in the data: \\n{my_row}')\n",
    "\n",
    "# Getting multiple values from a df.loc\n",
    "mult_peeps = data.loc[ [0,1,2] ]['names']\n",
    "print(f'\\nLocation of multiple people: \\n{mult_peeps}')\n",
    "    # print(f'\\n{list({mult_peeps})}')     ## TypeError: unhashable type: 'Series'\n",
    "\n",
    "# Using df.loc and producing a DataFrame at the end\n",
    "mult_peeps_df = data.loc[ [0,1,2] ][ ['names', 'ages'] ]\n",
    "print('\\n', mult_peeps_df)\n",
    "print('\\n', type(mult_peeps_df))\n",
    "\n",
    "\n",
    "# Reset our my_people dataframe index\n",
    "reset_index = data.loc[ [0,1,2,3] ].set_index('names')\n",
    "print('\\n', reset_index.loc['Alice'])\n",
    "\n",
    "reset_index.reset_index()\n",
    "\n",
    "print(reset_index.loc['James'])\n",
    "print(data.loc[2])"
   ]
  },
  {
   "cell_type": "markdown",
   "metadata": {},
   "source": [
    "##### keys()"
   ]
  },
  {
   "cell_type": "code",
   "execution_count": null,
   "metadata": {},
   "outputs": [],
   "source": [
    "# Access all of the keys/columns of the dataframe\n",
    "# Dataframe.keys()\n",
    "\n",
    "print(data.keys())\n",
    "print(bos2017.keys())\n",
    "print(type(bos2017.keys()))\n",
    "print(bos2017.keys().tolist())\n",
    "print(type(bos2017.keys().tolist()))\n"
   ]
  },
  {
   "cell_type": "markdown",
   "metadata": {},
   "source": [
    "##### Slicing a DataFrame"
   ]
  },
  {
   "cell_type": "code",
   "execution_count": null,
   "metadata": {},
   "outputs": [],
   "source": [
    "# printing all data for context\n",
    "data[2:5]"
   ]
  },
  {
   "cell_type": "markdown",
   "metadata": {},
   "source": [
    "### Built-In Methods <br>\n",
    "\n",
    "<p>These are methods that are frequently used when using Pandas to make your life easier. It is possible to spend a whole week simply exploring the built-in functions supported by DataFrames in Pandas. Here however, we will simply highlight a few ones that might be useful, to give you an idea of what's possible out of the box with Pandas:</p>"
   ]
  },
  {
   "cell_type": "markdown",
   "metadata": {},
   "source": [
    "##### head()"
   ]
  },
  {
   "cell_type": "code",
   "execution_count": null,
   "metadata": {
    "scrolled": true
   },
   "outputs": [],
   "source": [
    "# DataFrame.head() -- Prints first rows of data, defaults to 5 rows Accepts integer parameter(gives access to more rows)\n",
    "bos17.head()"
   ]
  },
  {
   "cell_type": "markdown",
   "metadata": {},
   "source": [
    "##### tail()"
   ]
  },
  {
   "cell_type": "code",
   "execution_count": null,
   "metadata": {
    "scrolled": false
   },
   "outputs": [],
   "source": [
    "# DataFrame.tail()  -- Prints first rows of data (defaults to 5 rows) Accepts integer parameter(gives access to more rows)\n",
    "bos17.tail()"
   ]
  },
  {
   "cell_type": "markdown",
   "metadata": {},
   "source": [
    "##### shape"
   ]
  },
  {
   "cell_type": "code",
   "execution_count": null,
   "metadata": {},
   "outputs": [],
   "source": [
    "# The dataframe has a shape property, just like a NumPy matrix. \n",
    "# print(df.shape) -- DataFrame.shape -- No Parameter\n",
    "\n",
    "print(bos17.shape)\n",
    "\n"
   ]
  },
  {
   "cell_type": "markdown",
   "metadata": {},
   "source": [
    "##### describe() <br>\n",
    "<p>Probably one of the most important methods to understand...</p>"
   ]
  },
  {
   "cell_type": "code",
   "execution_count": null,
   "metadata": {},
   "outputs": [],
   "source": [
    "# Collect summary statistics in one line\n",
    "# DataFrame.describe() -- Accepts parameters (include, exclude)\n",
    "\n",
    "bos18.describe()\n",
    "# bos18.describe('all') #### TypeError: '<=' not supported between instances of 'int' and 'numpy.str_'\n",
    "# bos18.describe('all')  ## Should return more info than default.  Info for all columns."
   ]
  },
  {
   "cell_type": "markdown",
   "metadata": {},
   "source": [
    "##### sort_values()"
   ]
  },
  {
   "cell_type": "code",
   "execution_count": null,
   "metadata": {},
   "outputs": [],
   "source": [
    "# Sort based on many labels, with left-to-right priority\n",
    "# sorted_data = data.sort_values('ages').reset_index()\n",
    "\n",
    "# DataFrame.sort_values('key')\n",
    "sorted_data = data.sort_values('ages', kind = 'mergesort')\n",
    "\n",
    "sorted_data.reset_index(drop=True)\n",
    "\n",
    "\n"
   ]
  },
  {
   "cell_type": "markdown",
   "metadata": {},
   "source": [
    "##### .columns"
   ]
  },
  {
   "cell_type": "code",
   "execution_count": null,
   "metadata": {},
   "outputs": [],
   "source": [
    "# will show all cols headers\n",
    "# DataFrame.columns -- has no parameters\n",
    "\n",
    "print(f'\\nbos17.columns: \\n{bos17.columns}')\n",
    "print(f'\\nDatatype of bos17.columns: {type(bos17.columns)}\\n')\n",
    "\n",
    "# Keys brings back the 'index' of whatever data type we are working with \n",
    "print(f'\\nbos17.keys: \\n{bos17.keys()}')\n",
    "print(f'\\nDatatype of bos17.keys: {type(bos17.keys())}\\n')\n",
    "\n",
    "####  Why does bos17.columns and bos17.keys() bring back exactly the same thing??  Should this be bos17.keys instead?"
   ]
  },
  {
   "cell_type": "markdown",
   "metadata": {},
   "source": [
    "### In-Class Exercise #2 - Describe & Sort Boston Red Sox Hitting Data <br>\n",
    "<p>Take the data that you read in earlier from the Red Sox csv's and use the describe method to understand the data better. Compare the two years and decide which team is having the better year. Then sort the values based on Batting Average.</p>"
   ]
  },
  {
   "cell_type": "code",
   "execution_count": null,
   "metadata": {},
   "outputs": [],
   "source": [
    "print(\"2017 stats:\")\n",
    "print(bos17.describe())\n",
    "print(\"\\n2018 stats:\")\n",
    "print(bos18.describe())\n",
    "\n",
    "print(f\"\\n2017 batting average: {bos17.describe()[' BA']['mean']}, SLG: {bos17.describe()[' SLG']['mean']}\")\n",
    "print(f\"2018 batting average: {bos18.describe()[' BA']['mean']}, SLG: {bos17.describe()[' SLG']['mean']}\")\n",
    "if bos17.describe()[' BA']['mean'] > bos18.describe()[' BA']['mean']:\n",
    "    print(\"2017 was a better year for the Redsox.\")\n",
    "else:\n",
    "    print(\"2017 was a better year for the Redsox.\")\n",
    "\n",
    "sorted_2017 = bos17.sort_values(' BA')\n",
    "print(\"\\n\", sorted_2017)\n",
    "\n",
    "sorted_2018 = bos18.sort_values(' BA')\n",
    "print(\"\\n\", sorted_2018)\n"
   ]
  },
  {
   "cell_type": "markdown",
   "metadata": {},
   "source": [
    "### Filtration <br>\n",
    "<p>Let's look at how to filter dataframes for rows that fulfill a specific conditon.</p>"
   ]
  },
  {
   "cell_type": "markdown",
   "metadata": {},
   "source": [
    "##### Conditionals"
   ]
  },
  {
   "cell_type": "code",
   "execution_count": null,
   "metadata": {},
   "outputs": [],
   "source": [
    "# Conditional boolean dataframe\n",
    "data['ages'] >= 25\n"
   ]
  },
  {
   "cell_type": "markdown",
   "metadata": {},
   "source": [
    "##### Subsetting"
   ]
  },
  {
   "cell_type": "code",
   "execution_count": null,
   "metadata": {},
   "outputs": [],
   "source": [
    "# exactly like numpy\n",
    "data[data['ages'] >= 25]\n"
   ]
  },
  {
   "cell_type": "markdown",
   "metadata": {},
   "source": [
    "### Column Transformations <br>\n",
    "<p>Rarely, if ever, will the columns in the original raw dataframe read from CSV or database table be the ones you actually need for your analysis. You will spend lots of time constantly transforming columns or groups of columns using general computational operations to produce new ones that are functions of the old ones. Pandas has full support for this: Consider the following dataframe containing membership term and renewal number for a group of customers:</p>"
   ]
  },
  {
   "cell_type": "code",
   "execution_count": null,
   "metadata": {},
   "outputs": [],
   "source": [
    "# Generate some fake data\n",
    "customer_id = np.random.randint(1000,1100,10)\n",
    "renewal_nbr = np.random.randint(0,10,10)\n",
    "customer_dict = {1: 0.5, 0: 1}\n",
    "terms_in_years = [customer_dict[key] for key in np.random.randint(0,2,10)]\n",
    "\n",
    "random_data = {\n",
    "    'customer_id': customer_id,\n",
    "    'renewal_nbr': renewal_nbr,\n",
    "    'terms_in_years': terms_in_years\n",
    "}\n",
    "\n",
    "customers = pd.DataFrame.from_dict(random_data)\n",
    "customers"
   ]
  },
  {
   "cell_type": "markdown",
   "metadata": {},
   "source": [
    "##### Generating a New Column w/Data"
   ]
  },
  {
   "cell_type": "code",
   "execution_count": null,
   "metadata": {},
   "outputs": [],
   "source": [
    "# DataFrame['key'] = Some Calculation from our DataFrame Columns\n",
    "customers['customer_tenure'] = customers['renewal_nbr'] * customers['terms_in_years']\n",
    "\n",
    "customers\n"
   ]
  },
  {
   "cell_type": "markdown",
   "metadata": {},
   "source": [
    "##### User Defined Function\n",
    "\n",
    "<p>If what you want to do to a column can't be represented by simple mathematical operations, you can write your own $\\textit{user defined function}$ with the full customizability available in Python and any external Python packages, then map it directly onto a column. Let's add some ages to our customer dataframe, and then classify them into our custom defined grouping scheme:</p>"
   ]
  },
  {
   "cell_type": "code",
   "execution_count": null,
   "metadata": {
    "scrolled": true
   },
   "outputs": [],
   "source": [
    "# use .apply to map over dataframe\n",
    "\n",
    "# Create a new column for ages\n",
    "# customers['ages'] = np.random.randint(18,70,10)\n",
    "\n",
    "# User defined function\n",
    "def make_age_groups(age):\n",
    "    if 6 <= age < 13:\n",
    "        return 'Child'\n",
    "    elif 13 <= age < 20:\n",
    "        return 'Teenager'\n",
    "    elif 20 <= age < 35:\n",
    "        return 'Young Adult'\n",
    "    elif 35 <= age < 65:\n",
    "        return 'Adult'\n",
    "    elif 65 <= age:\n",
    "        return 'Senior'\n",
    "    \n",
    "    \n",
    "# print(make_age_groups)  # just prints out memory location of function\n",
    "customers['age_group'] = customers['ages'].apply(make_age_groups)\n",
    "customers"
   ]
  },
  {
   "cell_type": "markdown",
   "metadata": {},
   "source": [
    "<p>As a last example I'll show here how you would use a lambda function to create a UDF that depends on $\\textit{more than one}$ column:</p>\n",
    "\n",
    "<li>UDF = User Defined Function</li>"
   ]
  },
  {
   "cell_type": "code",
   "execution_count": null,
   "metadata": {
    "scrolled": true
   },
   "outputs": [],
   "source": [
    "#Axis for apply can only be 1 or 0 -- 1 being the X axis 0 being the Y axis\n",
    "def make_loyalty_age_group(row):\n",
    "    age = row['ages']\n",
    "    tenure = row['customer_tenure']\n",
    "    \n",
    "    if 10 <=  age < 20:\n",
    "        age_group = 'Teenager'\n",
    "    elif 20 <= age < 35:\n",
    "        age_group = 'Young Adult'\n",
    "    elif 35 <= age < 65:\n",
    "        age_group = 'Adult'\n",
    "    elif 65 <= age:\n",
    "        age_group = 'Senior'\n",
    "    \n",
    "    if tenure > 2.0:\n",
    "        loyalty_age_group = f'Loyal {age_group}'\n",
    "    else:\n",
    "        loyalty_age_group = f'New {age_group}'\n",
    "    \n",
    "    return loyalty_age_group\n",
    "\n",
    "customers['loyalty_age_group'] = customers.apply(make_loyalty_age_group, axis = 1)\n",
    "customers"
   ]
  },
  {
   "cell_type": "markdown",
   "metadata": {},
   "source": [
    "### In-Class Exercise #3 - Create Your Own UDF <br>\n",
    "<p>Using the Boston Red Sox data, create your own UDF which creates a new column called 'All-Star' and puts every player with either a batting average over .280 or an on base percentage of over .360 with a result of 'Yes' in the column and 'No' if not.</p>"
   ]
  },
  {
   "cell_type": "code",
   "execution_count": 29,
   "metadata": {},
   "outputs": [
    {
     "name": "stdout",
     "output_type": "stream",
     "text": [
      "    Rk  Pos                 Name   Age    G   PA   AB    R    H   2B  ...  \\\n",
      "0    1    C           Sandy Leon    29   89  288  265   30   47   12  ...   \n",
      "1    2   1B       Mitch Moreland    32  124  459  404   57   99   23  ...   \n",
      "2    3   2B        Eduardo Nunez    31  127  502  480   56  127   23  ...   \n",
      "3    4   SS      Xander Bogaerts    25  136  580  513   72  148   45  ...   \n",
      "4    5   3B        Rafael Devers    21  121  490  450   59  108   24  ...   \n",
      "5    6   LF    Andrew Benintendi    23  148  661  579  103  168   41  ...   \n",
      "6    7   CF   Jackie Bradley Jr.    28  144  535  474   76  111   33  ...   \n",
      "7    8   RF         Mookie Betts    25  136  614  520  129  180   47  ...   \n",
      "8    9   DH        J.D. Martinez    30  150  649  569  111  188   37  ...   \n",
      "9   10   MI           Brock Holt    30  109  367  321   41   89   18  ...   \n",
      "10  11    C    Christian Vazquez    27   80  269  251   24   52   10  ...   \n",
      "11  12   UT        Blake Swihart    26   82  207  192   28   44   10  ...   \n",
      "12  13   UT       Hanley Ramirez    34   44  195  177   25   45    7  ...   \n",
      "13  14   1B         Steve Pearce    35   50  165  136   19   38    8  ...   \n",
      "14  15   2B          Ian Kinsler    36   37  143  132   17   32    6  ...   \n",
      "15  16   SS          Tzu-Wei Lin    24   37   73   65   15   16    6  ...   \n",
      "16  17   UT           Sam Travis    24   19   38   36    5    8    3  ...   \n",
      "17  18   UT     Brandon Phillips    37    9   27   23    4    3    0  ...   \n",
      "18  19   2B       Dustin Pedroia    34    3   13   11    1    1    0  ...   \n",
      "19  20    C           Dan Butler    31    2    7    6    0    1    0  ...   \n",
      "\n",
      "      OPS   OPS+   TB   GDP   HBP   SH   SF   IBB  allStar_lambda  AllStar  \n",
      "0   0.511     37   74     6     4    3    1     0              No       No  \n",
      "1   0.758    102  175    12     0    0    5     2              No       No  \n",
      "2   0.677     81  186    17     2    1    3     0              No       No  \n",
      "3   0.883    135  268    14     6    0    6     4             Yes      Yes  \n",
      "4   0.731     94  195     9     0    0    2     6              No       No  \n",
      "5   0.830    123  269     9     2    2    7     1             Yes      Yes  \n",
      "6   0.717     92  191     6    11    0    4     3              No       No  \n",
      "7   1.078    186  333     5     8    0    5     8             Yes      Yes  \n",
      "8   1.031    173  358    19     4    0    7    11             Yes      Yes  \n",
      "9   0.774    109  132     7     7    0    2     2             Yes      Yes  \n",
      "10  0.540     46   71     5     4    1    0     1              No       No  \n",
      "11  0.613     65   63     4     0    0    0     0              No       No  \n",
      "12  0.708     90   70     9     2    0    2     0              No       No  \n",
      "13  0.901    141   69     1     5    0    2     0             Yes      Yes  \n",
      "14  0.604     64   41     5     0    0    1     0              No       No  \n",
      "15  0.744    100   27     0     0    0    0     0              No       No  \n",
      "16  0.652     73   14     1     0    0    0     0              No       No  \n",
      "17  0.520     42    6     1     0    0    0     0              No       No  \n",
      "18  0.322     -7    1     0     0    0    0     0              No       No  \n",
      "19  0.310    -17    1     0     0    0    1     0              No       No  \n",
      "\n",
      "[20 rows x 30 columns]\n"
     ]
    }
   ],
   "source": [
    "\"\"\"\n",
    "    Name  BA OBP AllStar\n",
    "    Name .233 .360 Yes\n",
    "    Name .150 .288 No\n",
    "\"\"\"\n",
    "import numpy as np\n",
    "import pandas as pd\n",
    "\n",
    "# print(bos17.keys())\n",
    "\n",
    "def all_star(row):\n",
    "    BA = row[' BA']\n",
    "    OBP = row[' OBP']\n",
    "    \n",
    "    if BA >= 0.280 or OBP >= 0.360:  \n",
    "        return \"Yes\"\n",
    "    else:\n",
    "        return \"No\"\n",
    "\n",
    "def all_star_lambda(row):\n",
    "    BA = row[' BA']\n",
    "    OBP = row[' OBP']\n",
    "    all_star = lambda BA,OBP: 'Yes' if BA > 0.280 or OBP > .360 else 'No'   \n",
    "    return all_star(BA,OBP)  \n",
    "\n",
    "# bos17 = pd.read_csv('redsox_2017_hitting.txt', sep = ',')\n",
    "# bos18 = pd.read_csv('redsox_2018_hitting.txt', sep = ',')\n",
    "# bos18\n",
    "\n",
    "\n",
    "bos17['allStar_lambda'] = bos17.apply(all_star_lambda, axis = 1)\n",
    "\n",
    "bos17['AllStar'] = bos17.apply(all_star, axis = 1)\n",
    "print(bos17)\n",
    "\n",
    "bos18['allStar_lambda'] = bos18.apply(all_star_lambda, axis = 1)\n",
    "\n",
    "bos18['AllStar'] = bos18.apply(all_star, axis = 1)\n",
    "print(bos18)\n",
    "\n",
    "\n",
    "############### Other Methods tried before finding '' error  #########    \n",
    "#     if (ba.Series.ge(0.280)) | (OBP.Series.ge(0.360)):  # AttributeError: 'float' object has no attribute 'Series'\n",
    "#         return \"Yes\"\n",
    "#     else:\n",
    "#         return \"No\"\n",
    "\n",
    "    # Fix from: https://www.geeksforgeeks.org/how-to-fix-valueerror-the-truth-value-of-a-series-is-ambiguous-in-pandas/\n",
    "#     if (ba >= 0.280) | (OBP >= 0.360): \n",
    "#         return \"Yes\"\n",
    "#     else:\n",
    "#         return \"No\"\n",
    "    \n",
    "#     if np.logical_or((ba >= 0.280), (OBP >= 0.360)):  \n",
    "#         return \"Yes\"\n",
    "#     else:\n",
    "#         return \"No\"\n",
    "\n",
    "\n",
    "\n",
    "##################### Unrelated questions ###########################\n",
    "# print(f'\\nbos17.columns: \\n{bos17.columns}')\n",
    "# print(f'\\nDatatype of bos17.columns: {type(bos17.columns)}\\n')\n",
    "\n",
    "# # Keys brings back the 'index' of whatever data type we are working with \n",
    "# print(f'\\nbos17.keys: \\n{bos17.keys()}')\n",
    "# print(f'\\nDatatype of bos17.keys: {type(bos17.keys())}\\n') # interchangeable aliases for eachother\n",
    "\n",
    "####  Why does bos17.columns and bos17.keys() bring back exactly the same thing??  Should this be bos17.keys instead?\n",
    "\n",
    "################# df.loc ######################\n",
    "#### Need further explanation ####\n",
    "# Reset our my_people dataframe index\n",
    "# reset_index = data.loc[ [0,1,2,3] ].set_index('names')\n",
    "# print('\\n', reset_index.loc['Alice'])\n",
    "\n",
    "# reset_index.reset_index()  ## Why is this needed? What did it do?"
   ]
  },
  {
   "cell_type": "markdown",
   "metadata": {},
   "source": [
    "### Aggregations <br>\n",
    "<p>The raw data plus some transformations is generally only half the story. Your objective is to extract actual insights and actionable conclusions from the data, and that means reducing it from potentially billions of rows to some summary statistics via aggregation functions.</p>"
   ]
  },
  {
   "cell_type": "markdown",
   "metadata": {},
   "source": [
    "##### groupby() <br>\n",
    "<p>The .groupby() function is in some ways a 'master' aggregation.</p> \n",
    "\n",
    "<p>Data tables will usually reserve one column as a primary key - that is, a column for which each row has a unique value. This is to facilitate access to the exact rows of a data table that a user wants to view. The other columns will often have repeated values, such as the age groups in the above examples. We can use these columns to explore the data using the Pandas API:</p>"
   ]
  },
  {
   "cell_type": "code",
   "execution_count": null,
   "metadata": {},
   "outputs": [],
   "source": [
    "# also introducing .count() here, exact same as to how it's used in SQL\n",
    "\n",
    "# Using the groupby with the column intact as a column/key\n",
    "# customers.groupby('age_group', as_index = False).count()[['customer_id','age_group']]\n",
    "\n",
    "print(customers.groupby('age_group').count())\n",
    "print(type(customers.groupby('age_group')))\n"
   ]
  },
  {
   "cell_type": "markdown",
   "metadata": {},
   "source": [
    "##### Type of groupby()\n",
    "\n",
    "<p>The result is a new dataframe, the columns of which all contain the counts of the grouped field. Notice the type of a grouped dataframe:</p>"
   ]
  },
  {
   "cell_type": "code",
   "execution_count": null,
   "metadata": {},
   "outputs": [],
   "source": [
    "print(type(customers), 'Regular DataFrame')\n",
    "# print(f'\\nType of Group by for Customer.GroupBy: {type(customers.groupby('age_group'))}')\n",
    "print(f'Type of group by for customer.groupby: {type(customers.groupby(\"age_group\"))}')"
   ]
  },
  {
   "cell_type": "markdown",
   "metadata": {},
   "source": [
    "<p>This is because simply grouping data doesn't quite make sense without an aggregation function like count() to pair with. In this case, we're counting occurances of the grouped field, but that's not all we can do. We can take averages, standard deviations, mins, maxes and much more! Let's see how this works a bit more:</p>"
   ]
  },
  {
   "cell_type": "markdown",
   "metadata": {},
   "source": [
    "##### mean()"
   ]
  },
  {
   "cell_type": "code",
   "execution_count": null,
   "metadata": {},
   "outputs": [],
   "source": [
    "# mean = average\n",
    "customers.groupby('age_group').mean()  #  Gives data that doesn't make sense to average\n",
    "customers.groupby('age_group').mean()[ ['customer_tenure', 'ages'] ] # filters to only interesting columns\n"
   ]
  },
  {
   "cell_type": "markdown",
   "metadata": {},
   "source": [
    "##### groupby() w/Multiple Columns\n",
    "\n",
    "<p>We end up with the average age of the groups in the last column, the average tenure in the tenure column, and so on and so forth. You can even split the groups more finely by passing a list of columns to group by:</p>"
   ]
  },
  {
   "cell_type": "code",
   "execution_count": null,
   "metadata": {},
   "outputs": [],
   "source": [
    "customers.groupby(['age_group', 'ages']).mean().sort_values('ages', ascending = False)"
   ]
  },
  {
   "cell_type": "markdown",
   "metadata": {},
   "source": [
    "##### drop_duplicates()\n",
    "\n",
    "<p>Drops all duplicates from the current dataframe</p>"
   ]
  },
  {
   "cell_type": "code",
   "execution_count": null,
   "metadata": {},
   "outputs": [],
   "source": [
    "customers"
   ]
  },
  {
   "cell_type": "code",
   "execution_count": null,
   "metadata": {
    "scrolled": true
   },
   "outputs": [],
   "source": [
    "customers_copy = customers.drop_duplicates('renewal_nbr').reset_index(drop=True)\n",
    "customers_copy"
   ]
  },
  {
   "cell_type": "code",
   "execution_count": null,
   "metadata": {},
   "outputs": [],
   "source": []
  },
  {
   "cell_type": "code",
   "execution_count": null,
   "metadata": {},
   "outputs": [],
   "source": [
    "# Send customer data into a CSV file\n",
    "customers.to_csv('customers.csv')"
   ]
  },
  {
   "cell_type": "markdown",
   "metadata": {},
   "source": [
    "<p>Thus the groupby operation allows you to rapidly make summary observations about the state of your entire dataset at flexible granularity. In one line above, we actually did something very complicated - that's the power of the dataframe. In fact, the process often consists of several iterative groupby operations, each revealing greater insight than the last - if you don't know where to start with a dataset, try a bunch of groupbys!</p>"
   ]
  },
  {
   "cell_type": "markdown",
   "metadata": {},
   "source": [
    "### Homework Excersise #1 - Find the Total Number of Runs and RBIs for the Red Sox <br>\n",
    "<p>Get total number of home runs and rbi's</p>"
   ]
  },
  {
   "cell_type": "code",
   "execution_count": null,
   "metadata": {
    "scrolled": true
   },
   "outputs": [],
   "source": [
    "# step 1: Add a new column with the key 'Team' and all column values should be 'BOS'\n",
    "# bos18['Team'] = 'BOS'\n",
    "# bos18\n",
    "\n",
    "# step 2: Group by the 'Team' column and get total home runs and rbi's\n",
    "print(\"\\n2017 Home Runs and RBI's:\")\n",
    "print(bos17.groupby('Team').sum()[[' HR', ' RBI']])\n",
    "\n",
    "print(\"\\n2017 Home Runs and RBI's:\")\n",
    "print(bos17.groupby('Team').sum()[[' HR', ' RBI']])\n",
    "\n",
    "\n",
    "# Produce data for both 2017 and 2018 (ie print both seperated by a newline character \\n)\n",
    "\n",
    "# \"\"\"\n",
    "# TEAM    HR   RBI\n",
    "# ----------------\n",
    "# BOS     144  538\n",
    "# \"\"\"\n"
   ]
  },
  {
   "cell_type": "markdown",
   "metadata": {},
   "source": [
    "## Find the average age of runners in the 2017 Boston Marathon"
   ]
  },
  {
   "cell_type": "code",
   "execution_count": null,
   "metadata": {},
   "outputs": [],
   "source": [
    "# marathon.columns\n",
    "\n",
    "# marathon['all_runners'] = \"runners\"\n",
    "# marathon\n",
    "\n",
    "marathon.groupby('all_runners').mean()[['Age']]"
   ]
  }
 ],
 "metadata": {
  "kernelspec": {
   "display_name": "Python 3 (ipykernel)",
   "language": "python",
   "name": "python3"
  },
  "language_info": {
   "codemirror_mode": {
    "name": "ipython",
    "version": 3
   },
   "file_extension": ".py",
   "mimetype": "text/x-python",
   "name": "python",
   "nbconvert_exporter": "python",
   "pygments_lexer": "ipython3",
   "version": "3.9.13"
  },
  "vscode": {
   "interpreter": {
    "hash": "aee8b7b246df8f9039afb4144a1f6fd8d2ca17a180786b69acc140d282b71a49"
   }
  }
 },
 "nbformat": 4,
 "nbformat_minor": 2
}
